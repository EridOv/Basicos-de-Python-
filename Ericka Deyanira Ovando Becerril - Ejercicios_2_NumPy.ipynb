{
 "cells": [
  {
   "cell_type": "markdown",
   "metadata": {
    "id": "2bhr0s_6RKm-"
   },
   "source": [
    "# Ejercicios NumPy\n",
    "\n",
    "Esta serie de ejercicios tienen como objetivo que comprueben los conocimientos adquiridos. Inicial con ejercicios simples y se se complican gradualmente."
   ]
  },
  {
   "cell_type": "raw",
   "metadata": {},
   "source": [
    "Alumna: Ericka Deyanira Ovando B."
   ]
  },
  {
   "cell_type": "markdown",
   "metadata": {
    "id": "thyvlKp1RKnB"
   },
   "source": [
    "#### Importación de NumPy "
   ]
  },
  {
   "cell_type": "code",
   "execution_count": 1,
   "metadata": {
    "id": "_tsuBqZSRKnC"
   },
   "outputs": [],
   "source": [
    "import numpy as np"
   ]
  },
  {
   "cell_type": "markdown",
   "metadata": {
    "id": "jkOJuZOrRKnE"
   },
   "source": [
    "#### Crear un arreglo de 5 ceros  "
   ]
  },
  {
   "cell_type": "code",
   "execution_count": 4,
   "metadata": {
    "id": "Kb3rK-X1RKnF",
    "outputId": "2a77ff73-894c-4859-ea6c-f9909a74053e"
   },
   "outputs": [
    {
     "data": {
      "text/plain": [
       "array([0., 0., 0., 0., 0.])"
      ]
     },
     "execution_count": 4,
     "metadata": {},
     "output_type": "execute_result"
    }
   ],
   "source": [
    "np.zeros(5)"
   ]
  },
  {
   "cell_type": "markdown",
   "metadata": {
    "id": "qonAtmrORKnG"
   },
   "source": [
    "#### Crear un arreglo de 10 unos"
   ]
  },
  {
   "cell_type": "code",
   "execution_count": 5,
   "metadata": {
    "id": "OTRGBkj1RKnG",
    "outputId": "a8b192d4-4b7e-4d57-c269-f0902d1483e1"
   },
   "outputs": [
    {
     "data": {
      "text/plain": [
       "array([1., 1., 1., 1., 1., 1., 1., 1., 1., 1.])"
      ]
     },
     "execution_count": 5,
     "metadata": {},
     "output_type": "execute_result"
    }
   ],
   "source": [
    "np.ones(10)"
   ]
  },
  {
   "cell_type": "markdown",
   "metadata": {
    "id": "MAb7lB_URKnG"
   },
   "source": [
    "#### Crear un arreglo de 5  cincos "
   ]
  },
  {
   "cell_type": "code",
   "execution_count": 10,
   "metadata": {
    "id": "0s3E4qmFRKnI",
    "outputId": "59c3813d-baf0-47d1-ac3a-d6cffcdfaf06"
   },
   "outputs": [
    {
     "name": "stdout",
     "output_type": "stream",
     "text": [
      "[5. 5. 5. 5. 5.]\n"
     ]
    }
   ],
   "source": [
    "a= 5*(np.ones(5))\n",
    "print(a)"
   ]
  },
  {
   "cell_type": "markdown",
   "metadata": {
    "id": "JdmCFcCpRKnJ"
   },
   "source": [
    "#### Crear un arreglo de números consecutivos empezando en 10 terminando en 30  "
   ]
  },
  {
   "cell_type": "code",
   "execution_count": 14,
   "metadata": {
    "id": "DHMK1Cm-RKnK",
    "outputId": "601f5fe7-2da1-46c0-b88c-b4e44a583eb1"
   },
   "outputs": [
    {
     "data": {
      "text/plain": [
       "array([10, 11, 12, 13, 14, 15, 16, 17, 18, 19, 20, 21, 22, 23, 24, 25, 26,\n",
       "       27, 28, 29, 30])"
      ]
     },
     "execution_count": 14,
     "metadata": {},
     "output_type": "execute_result"
    }
   ],
   "source": [
    "np.arange(10,31)"
   ]
  },
  {
   "cell_type": "markdown",
   "metadata": {
    "id": "eC2iDBMnRKnL"
   },
   "source": [
    "#### Crear un arreglo de todos los  números pares  empezando en 10 terminando en 30  "
   ]
  },
  {
   "cell_type": "code",
   "execution_count": 17,
   "metadata": {
    "id": "TW6t-Sm-RKnM",
    "outputId": "b8af334a-c392-4e7b-dbeb-7b3ce3b0322c"
   },
   "outputs": [
    {
     "data": {
      "text/plain": [
       "array([10, 12, 14, 16, 18, 20, 22, 24, 26, 28, 30])"
      ]
     },
     "execution_count": 17,
     "metadata": {},
     "output_type": "execute_result"
    }
   ],
   "source": [
    "np.arange(10,31,2) "
   ]
  },
  {
   "cell_type": "markdown",
   "metadata": {
    "id": "VB3YyjCGRKnN"
   },
   "source": [
    "#### Crear  un matriz  de 3x3  formada por números consecutivos del 0 al 8 "
   ]
  },
  {
   "cell_type": "code",
   "execution_count": 28,
   "metadata": {
    "id": "txQktZgCRKnN",
    "outputId": "6d95bff5-8d94-47a6-fc7b-bfbbf3651bfd"
   },
   "outputs": [
    {
     "data": {
      "text/plain": [
       "array([[0, 1, 2],\n",
       "       [3, 4, 5],\n",
       "       [6, 7, 8]])"
      ]
     },
     "execution_count": 28,
     "metadata": {},
     "output_type": "execute_result"
    }
   ],
   "source": [
    "arreglo= np.arange(0,9)\n",
    "arreglo.reshape(3,3)"
   ]
  },
  {
   "cell_type": "markdown",
   "metadata": {
    "id": "fHN-pz1cRKnO"
   },
   "source": [
    "#### Crear una matriz identidad  de 5x5"
   ]
  },
  {
   "cell_type": "code",
   "execution_count": 30,
   "metadata": {
    "id": "Qyl6q-xORKnO",
    "outputId": "03b6e8e7-4e32-4469-b11d-bbcb5ed9fd10"
   },
   "outputs": [
    {
     "data": {
      "text/plain": [
       "array([[1., 0., 0., 0., 0.],\n",
       "       [0., 1., 0., 0., 0.],\n",
       "       [0., 0., 1., 0., 0.],\n",
       "       [0., 0., 0., 1., 0.],\n",
       "       [0., 0., 0., 0., 1.]])"
      ]
     },
     "execution_count": 30,
     "metadata": {},
     "output_type": "execute_result"
    }
   ],
   "source": [
    "np.eye(5)"
   ]
  },
  {
   "cell_type": "markdown",
   "metadata": {
    "id": "90eZ17pfRKnO"
   },
   "source": [
    "#### Crear un número aleatorio entre 0 y 10"
   ]
  },
  {
   "cell_type": "code",
   "execution_count": 36,
   "metadata": {
    "id": "ut6hpB5jRKnP",
    "outputId": "17f28f83-d2ba-48ac-8f27-5c4296a21309"
   },
   "outputs": [
    {
     "data": {
      "text/plain": [
       "6"
      ]
     },
     "execution_count": 36,
     "metadata": {},
     "output_type": "execute_result"
    }
   ],
   "source": [
    "np.random.randint(1.0,10.0)"
   ]
  },
  {
   "cell_type": "markdown",
   "metadata": {
    "id": "R3AUYBt9RKnP"
   },
   "source": [
    "#### Generen un arreglo de 20 elementos aleatorios  usando una distribución normal estándar "
   ]
  },
  {
   "cell_type": "code",
   "execution_count": 37,
   "metadata": {
    "id": "5mHOUNLpRKnP",
    "outputId": "13254d88-4464-4589-a330-fd28b1d592cf"
   },
   "outputs": [
    {
     "data": {
      "text/plain": [
       "array([-0.63072409, -0.80105967, -0.52990175,  0.11461869,  1.82063854,\n",
       "       -1.19322489,  0.5418863 ,  0.03110714, -0.17449745, -0.03283242,\n",
       "       -1.39437598,  0.18016769, -0.33673693, -1.16802422,  0.87315681,\n",
       "        1.61953841,  0.09484551,  1.40904651, -1.42247678, -0.66296065])"
      ]
     },
     "execution_count": 37,
     "metadata": {},
     "output_type": "execute_result"
    }
   ],
   "source": [
    "np.random.randn(20)"
   ]
  },
  {
   "cell_type": "markdown",
   "metadata": {
    "id": "TppPZYZtRKnQ"
   },
   "source": [
    "#### Crear la siguiente matriz \n",
    "\n",
    "array([[ 0.01,  0.02,  0.03,  0.04,  0.05,  0.06,  0.07,  0.08,  0.09,  0.1 ],\n",
    "       [ 0.11,  0.12,  0.13,  0.14,  0.15,  0.16,  0.17,  0.18,  0.19,  0.2 ],\n",
    "       [ 0.21,  0.22,  0.23,  0.24,  0.25,  0.26,  0.27,  0.28,  0.29,  0.3 ],\n",
    "       [ 0.31,  0.32,  0.33,  0.34,  0.35,  0.36,  0.37,  0.38,  0.39,  0.4 ],\n",
    "       [ 0.41,  0.42,  0.43,  0.44,  0.45,  0.46,  0.47,  0.48,  0.49,  0.5 ],\n",
    "       [ 0.51,  0.52,  0.53,  0.54,  0.55,  0.56,  0.57,  0.58,  0.59,  0.6 ],\n",
    "       [ 0.61,  0.62,  0.63,  0.64,  0.65,  0.66,  0.67,  0.68,  0.69,  0.7 ],\n",
    "       [ 0.71,  0.72,  0.73,  0.74,  0.75,  0.76,  0.77,  0.78,  0.79,  0.8 ],\n",
    "       [ 0.81,  0.82,  0.83,  0.84,  0.85,  0.86,  0.87,  0.88,  0.89,  0.9 ],\n",
    "       [ 0.91,  0.92,  0.93,  0.94,  0.95,  0.96,  0.97,  0.98,  0.99,  1.  ]])"
   ]
  },
  {
   "cell_type": "code",
   "execution_count": 42,
   "metadata": {},
   "outputs": [
    {
     "name": "stdout",
     "output_type": "stream",
     "text": [
      "[[0.01 0.02 0.03 0.04 0.05 0.06 0.07 0.08 0.09 0.1 ]\n",
      " [0.11 0.12 0.13 0.14 0.15 0.16 0.17 0.18 0.19 0.2 ]\n",
      " [0.21 0.22 0.23 0.24 0.25 0.26 0.27 0.28 0.29 0.3 ]\n",
      " [0.31 0.32 0.33 0.34 0.35 0.36 0.37 0.38 0.39 0.4 ]\n",
      " [0.41 0.42 0.43 0.44 0.45 0.46 0.47 0.48 0.49 0.5 ]\n",
      " [0.51 0.52 0.53 0.54 0.55 0.56 0.57 0.58 0.59 0.6 ]\n",
      " [0.61 0.62 0.63 0.64 0.65 0.66 0.67 0.68 0.69 0.7 ]\n",
      " [0.71 0.72 0.73 0.74 0.75 0.76 0.77 0.78 0.79 0.8 ]\n",
      " [0.81 0.82 0.83 0.84 0.85 0.86 0.87 0.88 0.89 0.9 ]\n",
      " [0.91 0.92 0.93 0.94 0.95 0.96 0.97 0.98 0.99 1.  ]]\n"
     ]
    }
   ],
   "source": [
    "arreglo= np.arange(0.01,1.01,.01)\n",
    "arreglo=arreglo.reshape(10,10)\n",
    "print(arreglo)\n"
   ]
  },
  {
   "cell_type": "markdown",
   "metadata": {
    "id": "BUtsWZd0RKnR"
   },
   "source": [
    "#### Crear un arreglo de 20 elementos equidistantes entre los valores de 0 a 1 "
   ]
  },
  {
   "cell_type": "code",
   "execution_count": 44,
   "metadata": {
    "id": "bx8X8ZCxRKnS",
    "outputId": "034a37e2-a89e-4047-c790-e763a5f7f771"
   },
   "outputs": [
    {
     "data": {
      "text/plain": [
       "array([0.        , 0.05263158, 0.10526316, 0.15789474, 0.21052632,\n",
       "       0.26315789, 0.31578947, 0.36842105, 0.42105263, 0.47368421,\n",
       "       0.52631579, 0.57894737, 0.63157895, 0.68421053, 0.73684211,\n",
       "       0.78947368, 0.84210526, 0.89473684, 0.94736842, 1.        ])"
      ]
     },
     "execution_count": 44,
     "metadata": {},
     "output_type": "execute_result"
    }
   ],
   "source": [
    "np.linspace(0, 1, 20)"
   ]
  },
  {
   "cell_type": "markdown",
   "metadata": {
    "id": "Ekf74AOoRKnS"
   },
   "source": [
    "## Indexación en arreglos numpy \n",
    "\n",
    "En esta sección se evaluará su conocimiento para obtener pociones de la matriz generada, para replicarlo tienen que usar exclusivamente  indexación "
   ]
  },
  {
   "cell_type": "code",
   "execution_count": 106,
   "metadata": {
    "id": "RY_Q7qDoRKnT",
    "outputId": "9b6d8a84-d4cf-4771-b3f8-6d94dd946177"
   },
   "outputs": [
    {
     "data": {
      "text/plain": [
       "array([[ 1,  2,  3,  4,  5],\n",
       "       [ 6,  7,  8,  9, 10],\n",
       "       [11, 12, 13, 14, 15],\n",
       "       [16, 17, 18, 19, 20],\n",
       "       [21, 22, 23, 24, 25]])"
      ]
     },
     "execution_count": 106,
     "metadata": {},
     "output_type": "execute_result"
    }
   ],
   "source": [
    "matriz1= np.arange(1,26)\n",
    "matriz1=matriz1.reshape(5,5)\n",
    "matriz1"
   ]
  },
  {
   "cell_type": "markdown",
   "metadata": {
    "collapsed": true,
    "id": "H1RrOVN8RKnT"
   },
   "source": [
    "Extraer la siguiente matriz: \n",
    "array([[12, 13, 14, 15],\n",
    "       [17, 18, 19, 20],\n",
    "       [22, 23, 24, 25]])"
   ]
  },
  {
   "cell_type": "code",
   "execution_count": 117,
   "metadata": {
    "id": "eIUbx3U7RKnU",
    "outputId": "c3e02d56-72f7-45a2-f0c8-c4a2950fcf7b"
   },
   "outputs": [
    {
     "data": {
      "text/plain": [
       "array([[12, 13, 14, 15],\n",
       "       [17, 18, 19, 20],\n",
       "       [22, 23, 24, 25]])"
      ]
     },
     "execution_count": 117,
     "metadata": {},
     "output_type": "execute_result"
    }
   ],
   "source": [
    "mayores= matriz1[matriz1>11] \n",
    "mayores = mayores[mayores!=16]\n",
    "mayores = mayores[mayores!=21]\n",
    "mayores.reshape(3,4)"
   ]
  },
  {
   "cell_type": "markdown",
   "metadata": {
    "collapsed": true,
    "id": "_JuwgfESRKnU"
   },
   "source": [
    "Extraer la siguiente celda:  15"
   ]
  },
  {
   "cell_type": "code",
   "execution_count": 116,
   "metadata": {
    "id": "C0susDucRKnU",
    "outputId": "fcffd6de-be74-41b7-a8ef-752e116d0ba7"
   },
   "outputs": [
    {
     "data": {
      "text/plain": [
       "15"
      ]
     },
     "execution_count": 116,
     "metadata": {},
     "output_type": "execute_result"
    }
   ],
   "source": [
    "mayores[3]\n",
    "#mat[2,4]"
   ]
  },
  {
   "cell_type": "markdown",
   "metadata": {
    "collapsed": true,
    "id": "BM-urp9eRKnV"
   },
   "source": [
    "Extraer la siguiente matriz: \n",
    "    array([[ 2],\n",
    "       [ 7],\n",
    "       [12]])"
   ]
  },
  {
   "cell_type": "code",
   "execution_count": 87,
   "metadata": {
    "id": "aSH0z6HHRKnV",
    "outputId": "90876894-be26-4685-b65f-94ce9d69cb5f"
   },
   "outputs": [
    {
     "data": {
      "text/plain": [
       "[[2], [7], [12]]"
      ]
     },
     "execution_count": 87,
     "metadata": {},
     "output_type": "execute_result"
    }
   ],
   "source": [
    "matriz= [list(matriz1[matriz1==2]), list(matriz1[matriz1==7]), list(matriz1[matriz1==12])]\n",
    "matriz"
   ]
  },
  {
   "cell_type": "markdown",
   "metadata": {
    "collapsed": true,
    "id": "CuQQ873pRKnV"
   },
   "source": [
    "Extraer la siguiente matriz:  array([21, 22, 23, 24, 25])"
   ]
  },
  {
   "cell_type": "code",
   "execution_count": 89,
   "metadata": {
    "id": "2yPFZVN2RKnV",
    "outputId": "9d5e5864-a6e4-46f2-cf23-a8a163b72012"
   },
   "outputs": [
    {
     "data": {
      "text/plain": [
       "array([21, 22, 23, 24, 25])"
      ]
     },
     "execution_count": 89,
     "metadata": {},
     "output_type": "execute_result"
    }
   ],
   "source": [
    "matriz_=matriz1[matriz1>20]\n",
    "matriz_"
   ]
  },
  {
   "cell_type": "markdown",
   "metadata": {
    "collapsed": true,
    "id": "AA2qqeloRKnW"
   },
   "source": [
    "Extraer la siguiente matriz: \n",
    "    array([[16, 17, 18, 19, 20],\n",
    "       [21, 22, 23, 24, 25]])"
   ]
  },
  {
   "cell_type": "code",
   "execution_count": 115,
   "metadata": {
    "id": "cysJXP18RKnW",
    "outputId": "0637be6c-6aba-4285-c26e-68fbc38d46fe"
   },
   "outputs": [
    {
     "data": {
      "text/plain": [
       "array([[16, 17, 18, 19, 20],\n",
       "       [21, 22, 23, 24, 25]])"
      ]
     },
     "execution_count": 115,
     "metadata": {},
     "output_type": "execute_result"
    }
   ],
   "source": [
    "matriz__=matriz1[3:5]\n",
    "matriz__"
   ]
  },
  {
   "cell_type": "markdown",
   "metadata": {
    "id": "AVmljVNCRKnW"
   },
   "source": [
    "### Operaciones adiciones \n",
    "\n",
    "No todo puede ser cubierto por el curso sin embargo existen funciones para hacerlo [funciones universales](http://docs.scipy.org/doc/numpy/reference/ufuncs.html)\n"
   ]
  },
  {
   "cell_type": "markdown",
   "metadata": {
    "id": "gOvEULeeRKnW"
   },
   "source": [
    "Obtener la suma de todos los valores en la matriz **mat**"
   ]
  },
  {
   "cell_type": "code",
   "execution_count": 94,
   "metadata": {
    "id": "HvK2H395RKnW",
    "outputId": "7f1984e7-7f30-4907-918a-766b62ec5e1f"
   },
   "outputs": [
    {
     "data": {
      "text/plain": [
       "205"
      ]
     },
     "execution_count": 94,
     "metadata": {},
     "output_type": "execute_result"
    }
   ],
   "source": [
    "sum(matriz__)"
   ]
  },
  {
   "cell_type": "markdown",
   "metadata": {
    "id": "VLFFR8C1RKnX"
   },
   "source": [
    "Obtener la desviación estándar de la matriz **mat**"
   ]
  },
  {
   "cell_type": "code",
   "execution_count": 97,
   "metadata": {
    "id": "JFeKK4gcRKnX",
    "outputId": "2fe1934d-75b9-496d-b2fa-2ed8b6ffdb76"
   },
   "outputs": [
    {
     "data": {
      "text/plain": [
       "2.8722813232690143"
      ]
     },
     "execution_count": 97,
     "metadata": {},
     "output_type": "execute_result"
    }
   ],
   "source": [
    "np.std(matriz__)"
   ]
  },
  {
   "cell_type": "markdown",
   "metadata": {
    "id": "CxHlFl2FRKnX"
   },
   "source": [
    "Obtener la suma de cada una de las columnas en  la matriz **mat**"
   ]
  },
  {
   "cell_type": "code",
   "execution_count": 109,
   "metadata": {
    "id": "QwH0ephpRKnX",
    "outputId": "1898bb1e-95f5-4b1d-f651-b4c77cce81b4"
   },
   "outputs": [
    {
     "data": {
      "text/plain": [
       "array([55, 60, 65, 70, 75])"
      ]
     },
     "execution_count": 109,
     "metadata": {},
     "output_type": "execute_result"
    }
   ],
   "source": [
    "s = np.add.reduce(matriz1, axis=0)\n",
    "s"
   ]
  },
  {
   "cell_type": "markdown",
   "metadata": {
    "collapsed": true,
    "id": "p9FCJKLLRKnY"
   },
   "source": [
    "# Buen trabajo "
   ]
  },
  {
   "cell_type": "code",
   "execution_count": null,
   "metadata": {
    "collapsed": true,
    "id": "YlPaBQ2BRKnZ"
   },
   "outputs": [],
   "source": []
  }
 ],
 "metadata": {
  "colab": {
   "name": "Copia de Numpy Ejercicio 02 (1).ipynb",
   "provenance": []
  },
  "kernelspec": {
   "display_name": "Python 3",
   "language": "python",
   "name": "python3"
  },
  "language_info": {
   "codemirror_mode": {
    "name": "ipython",
    "version": 3
   },
   "file_extension": ".py",
   "mimetype": "text/x-python",
   "name": "python",
   "nbconvert_exporter": "python",
   "pygments_lexer": "ipython3",
   "version": "3.8.8"
  }
 },
 "nbformat": 4,
 "nbformat_minor": 1
}
